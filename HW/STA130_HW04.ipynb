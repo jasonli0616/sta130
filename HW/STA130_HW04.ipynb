{
 "cells": [
  {
   "cell_type": "markdown",
   "id": "4b06503f",
   "metadata": {},
   "source": [
    "# STA130 Homework 04 - Jason Li\n"
   ]
  },
  {
   "cell_type": "markdown",
   "id": "b72d6ed5",
   "metadata": {},
   "source": [
    "## 1.\n",
    "\n",
    "The standard deviation is simply how much the data varies in a sample. The standard error of the mean tells you, if you were to collect sample data over and over, how close the mean of that sample would be to the mean of the means, or rather how much it varies.\n",
    "\n",
    "Rather than showing you how much the data varies, it will show you how much the mean of the data varies each time that you survey a sample (or bootstrap samples)."
   ]
  },
  {
   "cell_type": "markdown",
   "id": "e23cd275",
   "metadata": {},
   "source": [
    "## 2.\n",
    "\n",
    "The first step is to calculate bootstrapped means by sampling with replacement, and calculate the mean of the means ($mean$) and the standard error of the means ($SEM$), the steps of which are described in the video.\n",
    "\n",
    "Next, plug the values into the formula to get the 95% confidence interval ($CI$):\\\n",
    "$CI = mean \\pm 1.96 \\times SEM$.\n",
    "\n",
    "This formula will give you the lower and upper bounds of the 95% confidence interval."
   ]
  },
  {
   "cell_type": "markdown",
   "id": "d4940f07",
   "metadata": {},
   "source": [
    "## 3.\n",
    "\n",
    "The first step is to calculate bootstrapped means by sampling with replacement, and calculate the mean of each bootstrapped sample (*not* the mean of the means).\n",
    "\n",
    "Sort these means in ascending order.\n",
    "\n",
    "Since we want a 95% confidence interval, that leaves 5% outside the interval. Split this 5% into the lower and upper bound.\\\n",
    "Thus, we will take the values at the 2.5th percentile and the 97.5th (100-2.5) percentile as the lower and upper bound.\\\n",
    "We can also think about this as taking the middle 95% of the total 100%, which is from the 2.5th to 97.5th percentile."
   ]
  },
  {
   "cell_type": "markdown",
   "id": "c5506b2c",
   "metadata": {},
   "source": [
    "## 4.\n",
    "\n",
    "Below are two functions. One will calculate the bootstrapped means of some data, and the other will calculate the 95% confidence interval, with the steps listed in question 3, using the first function.\n",
    "\n",
    "I have commented in the code below where to change the code to use a different population parameter, such as the median."
   ]
  },
  {
   "cell_type": "code",
   "execution_count": 1,
   "id": "844aa723",
   "metadata": {},
   "outputs": [],
   "source": [
    "import numpy as np\n",
    "\n",
    "\n",
    "def get_bootstrapped_means(data, num_bootstrap_samples=10000):\n",
    "    # Generate bootstrap sample means\n",
    "    bootstrapped_means = []\n",
    "    for _ in range(num_bootstrap_samples):\n",
    "        # Generate a bootstrap sample (resample with replacement)\n",
    "        bootstrap_sample = np.random.choice(data, size=len(data), replace=True)\n",
    "        \n",
    "        \n",
    "        # Calculate the mean of the bootstrap sample\n",
    "        # Change this to np.median(...), or np.var(...) or another method to use a different population parameter\n",
    "        sample_mean = np.mean(bootstrap_sample)\n",
    "        \n",
    "        \n",
    "        bootstrapped_means.append(sample_mean)\n",
    "    return bootstrapped_means\n",
    "\n",
    "# Function to generate bootstrapped confidence interval\n",
    "def bootstrap_confidence_interval(data, confidence_level=95):\n",
    "    # Generate bootstrap sample means\n",
    "    bootstrapped_means = get_bootstrapped_means(data)\n",
    "    \n",
    "    # Calculate the percentiles for the confidence interval\n",
    "    lower_percentile = (100 - confidence_level) / 2\n",
    "    upper_percentile = 100 - lower_percentile\n",
    "    \n",
    "    # Compute the confidence interval\n",
    "    confidence_interval = np.percentile(bootstrapped_means, [lower_percentile, upper_percentile])\n",
    "    \n",
    "    return confidence_interval\n",
    "\n"
   ]
  },
  {
   "cell_type": "markdown",
   "id": "67d4862e",
   "metadata": {},
   "source": [
    "I want to display a histogram of the sample to help visualize it. Here is a function that will do that. I will run this once the confidence interval is calculated."
   ]
  },
  {
   "cell_type": "code",
   "execution_count": 2,
   "id": "09a0af07",
   "metadata": {},
   "outputs": [],
   "source": [
    "import matplotlib.pyplot as plt\n",
    "\n",
    "# Function to plot histogram and display mean, median, and confidence interval\n",
    "def plot_bootstrap_histogram(data, confidence_interval):\n",
    "    \n",
    "    bootstrapped_means = get_bootstrapped_means(data)\n",
    "    \n",
    "    \n",
    "    # Calculate mean and median of bootstrapped means\n",
    "    mean_bootstrap = np.mean(bootstrapped_means)\n",
    "    median_bootstrap = np.median(bootstrapped_means)\n",
    "    \n",
    "    # Create the histogram\n",
    "    plt.figure(figsize=(10, 6))\n",
    "    plt.hist(bootstrapped_means, bins=30, color='lightblue', edgecolor='black', alpha=0.7)\n",
    "    \n",
    "    # Plot mean, median, and confidence interval lines\n",
    "    plt.axvline(mean_bootstrap, color='red', linestyle='--', linewidth=2, label=f'Mean: {mean_bootstrap:.2f}')\n",
    "    plt.axvline(median_bootstrap, color='green', linestyle='-.', linewidth=2, label=f'Median: {median_bootstrap:.2f}')\n",
    "    plt.axvline(confidence_interval[0], color='blue', linestyle='-', linewidth=2, label=f'2.5%: {confidence_interval[0]:.2f}')\n",
    "    plt.axvline(confidence_interval[1], color='blue', linestyle='-', linewidth=2, label=f'97.5%: {confidence_interval[1]:.2f}')\n",
    "    \n",
    "    # Add title and labels\n",
    "    plt.title('Bootstrapped Sample Means Histogram with 95% Confidence Interval', fontsize=16)\n",
    "    plt.xlabel('Sample Mean', fontsize=12)\n",
    "    plt.ylabel('Frequency', fontsize=12)\n",
    "    \n",
    "    # Add legend\n",
    "    plt.legend(loc='upper right')\n",
    "    \n",
    "    # Show plot\n",
    "    plt.show()"
   ]
  },
  {
   "cell_type": "markdown",
   "id": "fca0dfcd",
   "metadata": {},
   "source": [
    "Generate a sample, and run the bootstrap confidence interval function"
   ]
  },
  {
   "cell_type": "code",
   "execution_count": 3,
   "id": "456ed1c3",
   "metadata": {},
   "outputs": [
    {
     "name": "stdout",
     "output_type": "stream",
     "text": [
      "95% Bootstrap Confidence Interval for the Mean: [ 92.75387385 100.45780659]\n"
     ]
    }
   ],
   "source": [
    "# Generate a random sample from a normal distribution\n",
    "np.random.seed(42)  # Set seed for reproducibility\n",
    "sample_size = 50\n",
    "population_mean = 100\n",
    "population_std = 15\n",
    "sample = np.random.normal(loc=population_mean, scale=population_std, size=sample_size)\n",
    "\n",
    "\n",
    "\n",
    "# Calculate the 95% bootstrap confidence interval\n",
    "ci = bootstrap_confidence_interval(sample)\n",
    "print(f\"95% Bootstrap Confidence Interval for the Mean: {ci}\")"
   ]
  },
  {
   "cell_type": "markdown",
   "id": "64b4b09c",
   "metadata": {},
   "source": [
    "Show the histogram"
   ]
  },
  {
   "cell_type": "code",
   "execution_count": 4,
   "id": "338755d4",
   "metadata": {},
   "outputs": [
    {
     "data": {
      "image/png": "[encoded data removed]",
      "text/plain": [
       "<Figure size 1000x600 with 1 Axes>"
      ]
     },
     "metadata": {},
     "output_type": "display_data"
    }
   ],
   "source": [
    "plot_bootstrap_histogram(sample, ci)"
   ]
  },
  {
   "cell_type": "markdown",
   "id": "e08d3c3f",
   "metadata": {},
   "source": [
    "## 5.\n",
    "\n",
    "A population parameter is a fixed constant value that describes a population. This value is generally unknown, since it is often not possible to know a characteristic from each member of a population.\n",
    "\n",
    "A sample statistic is a value that is calculated from a sample. This can vary from sample to sample, since two samples of a population usually do not have the exact same charateristics. Sample statistics can be used to infer population parameters (or a confidence interval).\n",
    "\n",
    "It is important to distinguish between these roles because they are different things. Their values can differ, there can be different methods of calculating or estimating these values, and they are used for different purposes."
   ]
  },
  {
   "cell_type": "markdown",
   "id": "b96befc1",
   "metadata": {},
   "source": [
    "## 6.\n",
    "\n",
    "1. Imagine you have a sample. You want to randomly take some amount of data (with replacement, meaning you can pick the same thing more than once) from this sample to form a new sample. This is your bootstrapped sample. The size of this new sample is often the same size as the original. Notice that this new sample will only contain values from the original sample.  You can calculate some statistics from this sample, such as the mean. You can perform this multiple times (like thousands of times or more). You can then take all the means (or any other statistic you calculated) from the many new samples, and calculate the mean of mean (or any other statistic you calculated) to infer a population parameter.\n",
    "\n",
    "2. The purpose of bootstrapping is to estimate population parameters from just a sample. Rather than looking at one sample that you have, you can bootstrap the sample to create many more samples and look at the values for all the samples.\n",
    "\n",
    "3. You could bootstrap the sample numerous times, as explained earlier (in part 1). You can take the means of all the bootstrapped samples, which are the mean of the means. This value will give you a value that is much more accurate to the population mean than just using a sample mean. You can compare this value to the hypothesized guess. You can also take the middle some percentile of the bootstrapped sample means to get a confidence interval."
   ]
  },
  {
   "cell_type": "markdown",
   "id": "1ce5a3ca",
   "metadata": {},
   "source": [
    "## 7.\n",
    "\n",
    "The sample mean statistic is only the just the mean of one sample, it does not represent the population. Each sample taken from the population may vary, so just because a sample mean is not zero doesn't tell us much.\n",
    "\n",
    "The confidence interval for the population mean gives an interval in which the population mean could fall in (with some percentage for the confidence). Since zero falls in the confidence interval for the population mean, it means that zero is a possible value for the population mean. It means that the population average falls somewhere between the interval of which zero is a part of.\n",
    "\n",
    "To lead to the opposite conclusion, the confidence interval must only include either positive or negative numbers, leaving out zero. This would mean that the drug (on average) is effective or negatively effective respectively."
   ]
  },
  {
   "cell_type": "markdown",
   "id": "c574cb6e",
   "metadata": {},
   "source": [
    "## 8.\n"
   ]
  },
  {
   "cell_type": "markdown",
   "id": "ea32416f",
   "metadata": {},
   "source": [
    "We have a sample of patients, and their health score before and after taking a vaccine. We want to analyze the data to give evidence for whether or not the vaccine is effective.\n",
    "\n",
    "The sample data is shown below."
   ]
  },
  {
   "cell_type": "code",
   "execution_count": 5,
   "id": "c6c16c93",
   "metadata": {},
   "outputs": [
    {
     "data": {
      "text/html": [
       "<div>\n",
       "<style scoped>\n",
       "    .dataframe tbody tr th:only-of-type {\n",
       "        vertical-align: middle;\n",
       "    }\n",
       "\n",
       "    .dataframe tbody tr th {\n",
       "        vertical-align: top;\n",
       "    }\n",
       "\n",
       "    .dataframe thead th {\n",
       "        text-align: right;\n",
       "    }\n",
       "</style>\n",
       "<table border=\"1\" class=\"dataframe\">\n",
       "  <thead>\n",
       "    <tr style=\"text-align: right;\">\n",
       "      <th></th>\n",
       "      <th>PatientID</th>\n",
       "      <th>Age</th>\n",
       "      <th>Gender</th>\n",
       "      <th>InitialHealthScore</th>\n",
       "      <th>FinalHealthScore</th>\n",
       "    </tr>\n",
       "  </thead>\n",
       "  <tbody>\n",
       "    <tr>\n",
       "      <th>0</th>\n",
       "      <td>1</td>\n",
       "      <td>45</td>\n",
       "      <td>M</td>\n",
       "      <td>84</td>\n",
       "      <td>86</td>\n",
       "    </tr>\n",
       "    <tr>\n",
       "      <th>1</th>\n",
       "      <td>2</td>\n",
       "      <td>34</td>\n",
       "      <td>F</td>\n",
       "      <td>78</td>\n",
       "      <td>86</td>\n",
       "    </tr>\n",
       "    <tr>\n",
       "      <th>2</th>\n",
       "      <td>3</td>\n",
       "      <td>29</td>\n",
       "      <td>M</td>\n",
       "      <td>83</td>\n",
       "      <td>80</td>\n",
       "    </tr>\n",
       "    <tr>\n",
       "      <th>3</th>\n",
       "      <td>4</td>\n",
       "      <td>52</td>\n",
       "      <td>F</td>\n",
       "      <td>81</td>\n",
       "      <td>86</td>\n",
       "    </tr>\n",
       "    <tr>\n",
       "      <th>4</th>\n",
       "      <td>5</td>\n",
       "      <td>37</td>\n",
       "      <td>M</td>\n",
       "      <td>81</td>\n",
       "      <td>84</td>\n",
       "    </tr>\n",
       "    <tr>\n",
       "      <th>5</th>\n",
       "      <td>6</td>\n",
       "      <td>41</td>\n",
       "      <td>F</td>\n",
       "      <td>80</td>\n",
       "      <td>86</td>\n",
       "    </tr>\n",
       "    <tr>\n",
       "      <th>6</th>\n",
       "      <td>7</td>\n",
       "      <td>33</td>\n",
       "      <td>M</td>\n",
       "      <td>79</td>\n",
       "      <td>86</td>\n",
       "    </tr>\n",
       "    <tr>\n",
       "      <th>7</th>\n",
       "      <td>8</td>\n",
       "      <td>48</td>\n",
       "      <td>F</td>\n",
       "      <td>85</td>\n",
       "      <td>82</td>\n",
       "    </tr>\n",
       "    <tr>\n",
       "      <th>8</th>\n",
       "      <td>9</td>\n",
       "      <td>26</td>\n",
       "      <td>M</td>\n",
       "      <td>76</td>\n",
       "      <td>83</td>\n",
       "    </tr>\n",
       "    <tr>\n",
       "      <th>9</th>\n",
       "      <td>10</td>\n",
       "      <td>39</td>\n",
       "      <td>F</td>\n",
       "      <td>83</td>\n",
       "      <td>84</td>\n",
       "    </tr>\n",
       "  </tbody>\n",
       "</table>\n",
       "</div>"
      ],
      "text/plain": [
       "   PatientID  Age Gender  InitialHealthScore  FinalHealthScore\n",
       "0          1   45      M                  84                86\n",
       "1          2   34      F                  78                86\n",
       "2          3   29      M                  83                80\n",
       "3          4   52      F                  81                86\n",
       "4          5   37      M                  81                84\n",
       "5          6   41      F                  80                86\n",
       "6          7   33      M                  79                86\n",
       "7          8   48      F                  85                82\n",
       "8          9   26      M                  76                83\n",
       "9         10   39      F                  83                84"
      ]
     },
     "execution_count": 5,
     "metadata": {},
     "output_type": "execute_result"
    }
   ],
   "source": [
    "import pandas as pd\n",
    "\n",
    "# Load the CSV file\n",
    "file_path = 'STA130_HW04_Q8.csv'\n",
    "df = pd.read_csv(file_path)\n",
    "\n",
    "df"
   ]
  },
  {
   "cell_type": "markdown",
   "id": "fc54009c",
   "metadata": {},
   "source": [
    "I want to create a new column for the change in the patient's health score.\n",
    "\n",
    "This will be their final health score minus their initial health score.\n",
    "\n",
    "A positive number indicates that their health improved after getting the vaccine.\\\n",
    "A negative number indicates that their health declined after getting the vaccine.\\\n",
    "A change of zero indicates that their health stayed the same after getting the vaccine."
   ]
  },
  {
   "cell_type": "code",
   "execution_count": 6,
   "id": "ef0d17c2",
   "metadata": {},
   "outputs": [
    {
     "data": {
      "text/html": [
       "<div>\n",
       "<style scoped>\n",
       "    .dataframe tbody tr th:only-of-type {\n",
       "        vertical-align: middle;\n",
       "    }\n",
       "\n",
       "    .dataframe tbody tr th {\n",
       "        vertical-align: top;\n",
       "    }\n",
       "\n",
       "    .dataframe thead th {\n",
       "        text-align: right;\n",
       "    }\n",
       "</style>\n",
       "<table border=\"1\" class=\"dataframe\">\n",
       "  <thead>\n",
       "    <tr style=\"text-align: right;\">\n",
       "      <th></th>\n",
       "      <th>PatientID</th>\n",
       "      <th>Age</th>\n",
       "      <th>Gender</th>\n",
       "      <th>InitialHealthScore</th>\n",
       "      <th>FinalHealthScore</th>\n",
       "      <th>HealthScoreChange</th>\n",
       "    </tr>\n",
       "  </thead>\n",
       "  <tbody>\n",
       "    <tr>\n",
       "      <th>0</th>\n",
       "      <td>1</td>\n",
       "      <td>45</td>\n",
       "      <td>M</td>\n",
       "      <td>84</td>\n",
       "      <td>86</td>\n",
       "      <td>2</td>\n",
       "    </tr>\n",
       "    <tr>\n",
       "      <th>1</th>\n",
       "      <td>2</td>\n",
       "      <td>34</td>\n",
       "      <td>F</td>\n",
       "      <td>78</td>\n",
       "      <td>86</td>\n",
       "      <td>8</td>\n",
       "    </tr>\n",
       "    <tr>\n",
       "      <th>2</th>\n",
       "      <td>3</td>\n",
       "      <td>29</td>\n",
       "      <td>M</td>\n",
       "      <td>83</td>\n",
       "      <td>80</td>\n",
       "      <td>-3</td>\n",
       "    </tr>\n",
       "    <tr>\n",
       "      <th>3</th>\n",
       "      <td>4</td>\n",
       "      <td>52</td>\n",
       "      <td>F</td>\n",
       "      <td>81</td>\n",
       "      <td>86</td>\n",
       "      <td>5</td>\n",
       "    </tr>\n",
       "    <tr>\n",
       "      <th>4</th>\n",
       "      <td>5</td>\n",
       "      <td>37</td>\n",
       "      <td>M</td>\n",
       "      <td>81</td>\n",
       "      <td>84</td>\n",
       "      <td>3</td>\n",
       "    </tr>\n",
       "    <tr>\n",
       "      <th>5</th>\n",
       "      <td>6</td>\n",
       "      <td>41</td>\n",
       "      <td>F</td>\n",
       "      <td>80</td>\n",
       "      <td>86</td>\n",
       "      <td>6</td>\n",
       "    </tr>\n",
       "    <tr>\n",
       "      <th>6</th>\n",
       "      <td>7</td>\n",
       "      <td>33</td>\n",
       "      <td>M</td>\n",
       "      <td>79</td>\n",
       "      <td>86</td>\n",
       "      <td>7</td>\n",
       "    </tr>\n",
       "    <tr>\n",
       "      <th>7</th>\n",
       "      <td>8</td>\n",
       "      <td>48</td>\n",
       "      <td>F</td>\n",
       "      <td>85</td>\n",
       "      <td>82</td>\n",
       "      <td>-3</td>\n",
       "    </tr>\n",
       "    <tr>\n",
       "      <th>8</th>\n",
       "      <td>9</td>\n",
       "      <td>26</td>\n",
       "      <td>M</td>\n",
       "      <td>76</td>\n",
       "      <td>83</td>\n",
       "      <td>7</td>\n",
       "    </tr>\n",
       "    <tr>\n",
       "      <th>9</th>\n",
       "      <td>10</td>\n",
       "      <td>39</td>\n",
       "      <td>F</td>\n",
       "      <td>83</td>\n",
       "      <td>84</td>\n",
       "      <td>1</td>\n",
       "    </tr>\n",
       "  </tbody>\n",
       "</table>\n",
       "</div>"
      ],
      "text/plain": [
       "   PatientID  Age Gender  InitialHealthScore  FinalHealthScore  \\\n",
       "0          1   45      M                  84                86   \n",
       "1          2   34      F                  78                86   \n",
       "2          3   29      M                  83                80   \n",
       "3          4   52      F                  81                86   \n",
       "4          5   37      M                  81                84   \n",
       "5          6   41      F                  80                86   \n",
       "6          7   33      M                  79                86   \n",
       "7          8   48      F                  85                82   \n",
       "8          9   26      M                  76                83   \n",
       "9         10   39      F                  83                84   \n",
       "\n",
       "   HealthScoreChange  \n",
       "0                  2  \n",
       "1                  8  \n",
       "2                 -3  \n",
       "3                  5  \n",
       "4                  3  \n",
       "5                  6  \n",
       "6                  7  \n",
       "7                 -3  \n",
       "8                  7  \n",
       "9                  1  "
      ]
     },
     "execution_count": 6,
     "metadata": {},
     "output_type": "execute_result"
    }
   ],
   "source": [
    "# Create a new column 'HealthScoreChange' by subtracting InitialHealthScore from FinalHealthScore\n",
    "df['HealthScoreChange'] = df['FinalHealthScore'] - df['InitialHealthScore']\n",
    "\n",
    "df"
   ]
  },
  {
   "cell_type": "markdown",
   "id": "a0890654",
   "metadata": {},
   "source": [
    "Here is a visualization of the histogram of this sample. The sample data on its own doesn't give us much."
   ]
  },
  {
   "cell_type": "code",
   "execution_count": 7,
   "id": "3903eed8",
   "metadata": {},
   "outputs": [
    {
     "name": "stdout",
     "output_type": "stream",
     "text": [
      "Mean Health Score Change: 3.3\n"
     ]
    },
    {
     "data": {
      "image/png": "[encoded data removed]"
     },
     "metadata": {},
     "output_type": "display_data"
    }
   ],
   "source": [
    "import plotly.express as px\n",
    "import plotly.graph_objects as go\n",
    "\n",
    "# Calculate the mean and median of HealthScoreChange\n",
    "mean_health_change = df['HealthScoreChange'].mean()\n",
    "median_health_change = df['HealthScoreChange'].median()\n",
    "\n",
    "print(f\"Mean Health Score Change: {mean_health_change}\")\n",
    "\n",
    "# Create a histogram using Plotly\n",
    "fig = px.histogram(df, x='HealthScoreChange', nbins=6, title='Histogram of Health Score Change')\n",
    "\n",
    "# Add vertical lines for the mean and median\n",
    "fig.add_trace(go.Scatter(x=[mean_health_change, mean_health_change], y=[0, df.shape[0]],\n",
    "                         mode=\"lines\", name=f'Mean: {mean_health_change:.2f}',\n",
    "                         line=dict(color='blue', width=2)))\n",
    "fig.add_trace(go.Scatter(x=[median_health_change, median_health_change], y=[0, df.shape[0]],\n",
    "                         mode=\"lines\", name=f'Median: {median_health_change:.2f}',\n",
    "                         line=dict(color='red', width=2, dash='dash')))\n",
    "\n",
    "# Update layout\n",
    "fig.update_layout(\n",
    "    xaxis_title='Health Score Change',\n",
    "    yaxis_title='Frequency',\n",
    "    showlegend=True\n",
    ")\n",
    "\n",
    "# Show the figure\n",
    "fig.show(renderer=\"png\")\n"
   ]
  },
  {
   "cell_type": "markdown",
   "id": "2642315b",
   "metadata": {},
   "source": [
    "I want to create new samples by take elements from the existing sample at random with replacement. I will simulate this numerous times. I will store the mean of the sample each time I do this. This gives us a list of the bootstrapped means.\n",
    "\n",
    "I will get a 95% confidence interval for the population mean, using the values at the 2.5th and 97.5th percentiles.\n",
    "\n",
    "For the vaccine to be effective, I want the confidence interval to only include positive numbers, and not zero. If it includes zero, we cannot rule out the null hypothesis, meaning that zero is a possibility as the population mean for the health score change. I only want positive numbers to be possible values for the population mean."
   ]
  },
  {
   "cell_type": "code",
   "execution_count": 8,
   "id": "96d12a13",
   "metadata": {},
   "outputs": [
    {
     "data": {
      "text/plain": [
       "[2.9, 5.2, 3.3, 2.1, 2.2, 3.5, 3.2, 4.1, 2.1, 2.6]"
      ]
     },
     "execution_count": 8,
     "metadata": {},
     "output_type": "execute_result"
    }
   ],
   "source": [
    "import numpy as np\n",
    "\n",
    "# Variables for sample size, number of simulations, and random seed\n",
    "sample_size = 10\n",
    "num_simulations = 10000\n",
    "random_seed = 42  # Set your desired seed\n",
    "\n",
    "# Set the seed for reproducibility\n",
    "np.random.seed(random_seed)\n",
    "\n",
    "# List to store bootstrapped means\n",
    "bootstrapped_means = []\n",
    "\n",
    "# Perform bootstrapping\n",
    "for _ in range(num_simulations):\n",
    "    # Randomly sample 'sample_size' elements with replacement from the HealthScoreChange column\n",
    "    bootstrap_sample = df['HealthScoreChange'].sample(n=sample_size, replace=True, random_state=np.random.randint(1, 10000))\n",
    "    \n",
    "    # Calculate the mean of the bootstrap sample and store it\n",
    "    bootstrapped_means.append(bootstrap_sample.mean())\n",
    "\n",
    "# Display the bootstrapped means\n",
    "bootstrapped_means[:10]"
   ]
  },
  {
   "cell_type": "code",
   "execution_count": 9,
   "id": "51bb3481",
   "metadata": {},
   "outputs": [
    {
     "name": "stdout",
     "output_type": "stream",
     "text": [
      "95% Confidence Interval: [0.90, 5.60]\n"
     ]
    }
   ],
   "source": [
    "# Calculate the 95% confidence interval using the percentiles method\n",
    "lower_bound = np.percentile(bootstrapped_means, 2.5)\n",
    "upper_bound = np.percentile(bootstrapped_means, 97.5)\n",
    "\n",
    "# Display the confidence interval\n",
    "print(f\"95% Confidence Interval: [{lower_bound:.2f}, {upper_bound:.2f}]\")\n"
   ]
  },
  {
   "cell_type": "code",
   "execution_count": 10,
   "id": "fc0de879",
   "metadata": {},
   "outputs": [
    {
     "name": "stdout",
     "output_type": "stream",
     "text": [
      "Mean of Bootstrapped Means: 3.30\n"
     ]
    }
   ],
   "source": [
    "# Calculate the mean of the bootstrapped means\n",
    "mean_of_means = np.mean(bootstrapped_means)\n",
    "\n",
    "# Display the mean of the means\n",
    "print(f\"Mean of Bootstrapped Means: {mean_of_means:.2f}\")\n"
   ]
  },
  {
   "cell_type": "code",
   "execution_count": 11,
   "id": "96451f20",
   "metadata": {},
   "outputs": [
    {
     "data": {
      "image/png": "[encoded data removed]"
     },
     "metadata": {},
     "output_type": "display_data"
    }
   ],
   "source": [
    "# Create a histogram of the bootstrapped means\n",
    "fig = px.histogram(bootstrapped_means, nbins=30, title='Histogram of Bootstrapped Means')\n",
    "\n",
    "# Add vertical lines for the mean of the means and the 95% confidence interval\n",
    "fig.add_trace(go.Scatter(x=[mean_of_means, mean_of_means], y=[0, 1700], mode=\"lines\", name=f'Mean of Means: {mean_of_means:.2f}',\n",
    "                         line=dict(color='blue', width=2)))\n",
    "fig.add_trace(go.Scatter(x=[lower_bound, lower_bound], y=[0, 1700], mode=\"lines\", name=f'Lower 95% CI: {lower_bound:.2f}',\n",
    "                         line=dict(color='red', width=2, dash='dash')))\n",
    "fig.add_trace(go.Scatter(x=[upper_bound, upper_bound], y=[0, 1700], mode=\"lines\", name=f'Upper 95% CI: {upper_bound:.2f}',\n",
    "                         line=dict(color='red', width=2, dash='dash')))\n",
    "\n",
    "# Update layout\n",
    "fig.update_layout(\n",
    "    xaxis_title='Bootstrapped Means',\n",
    "    yaxis_title='Frequency',\n",
    "    showlegend=True\n",
    ")\n",
    "\n",
    "# Show the figure\n",
    "fig.show(renderer=\"png\")\n"
   ]
  },
  {
   "cell_type": "markdown",
   "id": "f5f90a84",
   "metadata": {},
   "source": [
    "We wanted zero to not be included in the confidence interval.\n",
    "\n",
    "Since zero is not included in the 95% confidence interval, there is evidence to show that the vaccine is effective."
   ]
  }
 ],
 "metadata": {
  "kernelspec": {
   "display_name": "Python 3 (ipykernel)",
   "language": "python",
   "name": "python3"
  },
  "language_info": {
   "codemirror_mode": {
    "name": "ipython",
    "version": 3
   },
   "file_extension": ".py",
   "mimetype": "text/x-python",
   "name": "python",
   "nbconvert_exporter": "python",
   "pygments_lexer": "ipython3",
   "version": "3.11.6"
  }
 },
 "nbformat": 4,
 "nbformat_minor": 5
}
